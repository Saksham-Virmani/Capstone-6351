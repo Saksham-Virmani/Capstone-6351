{
 "cells": [
  {
   "cell_type": "code",
   "execution_count": 1,
   "id": "cb70aa2d-67e9-406b-8563-851d9699553b",
   "metadata": {},
   "outputs": [],
   "source": [
    "%reload_ext autoreload\n",
    "%autoreload 2\n",
    "\n",
    "import pandas as pd    \n",
    "from data_collection import *"
   ]
  },
  {
   "cell_type": "code",
   "execution_count": 2,
   "id": "e23b6098-4a9a-4ece-9aa4-33a2f6795ded",
   "metadata": {},
   "outputs": [],
   "source": [
    "sentiment_data_aapl = sentiment_data('AAPL', '2020-01-01', '2024-05-01')"
   ]
  },
  {
   "cell_type": "code",
   "execution_count": 3,
   "id": "2b7e8b86-e496-4b59-bbee-64f48c3b518d",
   "metadata": {},
   "outputs": [],
   "source": [
    "price_data_aapl = price_data('AAPL', '2020-01-01', '2024-05-01')"
   ]
  },
  {
   "cell_type": "code",
   "execution_count": 4,
   "id": "a3c77505-c824-4d57-8f1d-e17b93f62da0",
   "metadata": {},
   "outputs": [],
   "source": [
    "indicators_aapl = technical_indicators(price_data_aapl)"
   ]
  },
  {
   "cell_type": "code",
   "execution_count": 5,
   "id": "f4883289-9fbc-44ee-98b0-fb4a15471c2e",
   "metadata": {},
   "outputs": [
    {
     "data": {
      "text/html": [
       "<div>\n",
       "<style scoped>\n",
       "    .dataframe tbody tr th:only-of-type {\n",
       "        vertical-align: middle;\n",
       "    }\n",
       "\n",
       "    .dataframe tbody tr th {\n",
       "        vertical-align: top;\n",
       "    }\n",
       "\n",
       "    .dataframe thead th {\n",
       "        text-align: right;\n",
       "    }\n",
       "</style>\n",
       "<table border=\"1\" class=\"dataframe\">\n",
       "  <thead>\n",
       "    <tr style=\"text-align: right;\">\n",
       "      <th></th>\n",
       "      <th>sentimentValue</th>\n",
       "      <th>open</th>\n",
       "      <th>high</th>\n",
       "      <th>low</th>\n",
       "      <th>close</th>\n",
       "      <th>volume</th>\n",
       "      <th>returns</th>\n",
       "      <th>SMA_short</th>\n",
       "      <th>SMA_long</th>\n",
       "      <th>EMA_short</th>\n",
       "      <th>EMA_long</th>\n",
       "      <th>std_dev</th>\n",
       "      <th>upper_band</th>\n",
       "      <th>lower_band</th>\n",
       "      <th>RSI</th>\n",
       "      <th>MACD</th>\n",
       "      <th>MACD_signal</th>\n",
       "      <th>MACD_histogram</th>\n",
       "      <th>ATR</th>\n",
       "    </tr>\n",
       "  </thead>\n",
       "  <tbody>\n",
       "    <tr>\n",
       "      <th>2024-04-25</th>\n",
       "      <td>0.217</td>\n",
       "      <td>169.525</td>\n",
       "      <td>170.610</td>\n",
       "      <td>168.1511</td>\n",
       "      <td>169.89</td>\n",
       "      <td>50558329.0</td>\n",
       "      <td>0.005147</td>\n",
       "      <td>169.4825</td>\n",
       "      <td>173.5830</td>\n",
       "      <td>169.725114</td>\n",
       "      <td>173.662891</td>\n",
       "      <td>2.799306</td>\n",
       "      <td>175.081112</td>\n",
       "      <td>163.883888</td>\n",
       "      <td>45.291850</td>\n",
       "      <td>-3.937777</td>\n",
       "      <td>-4.104239</td>\n",
       "      <td>0.166462</td>\n",
       "      <td>2.916435</td>\n",
       "    </tr>\n",
       "    <tr>\n",
       "      <th>2024-04-26</th>\n",
       "      <td>0.032</td>\n",
       "      <td>169.880</td>\n",
       "      <td>171.340</td>\n",
       "      <td>169.1800</td>\n",
       "      <td>169.30</td>\n",
       "      <td>44838354.0</td>\n",
       "      <td>-0.003473</td>\n",
       "      <td>169.3735</td>\n",
       "      <td>173.2860</td>\n",
       "      <td>169.684627</td>\n",
       "      <td>173.491797</td>\n",
       "      <td>2.759594</td>\n",
       "      <td>174.892689</td>\n",
       "      <td>163.854311</td>\n",
       "      <td>46.892816</td>\n",
       "      <td>-3.807170</td>\n",
       "      <td>-4.044825</td>\n",
       "      <td>0.237655</td>\n",
       "      <td>2.884435</td>\n",
       "    </tr>\n",
       "    <tr>\n",
       "      <th>2024-04-29</th>\n",
       "      <td>0.281</td>\n",
       "      <td>173.370</td>\n",
       "      <td>176.030</td>\n",
       "      <td>173.1000</td>\n",
       "      <td>173.50</td>\n",
       "      <td>68169419.0</td>\n",
       "      <td>0.024808</td>\n",
       "      <td>169.5470</td>\n",
       "      <td>173.0788</td>\n",
       "      <td>170.047996</td>\n",
       "      <td>173.492119</td>\n",
       "      <td>2.908127</td>\n",
       "      <td>175.363253</td>\n",
       "      <td>163.730747</td>\n",
       "      <td>54.586307</td>\n",
       "      <td>-3.444123</td>\n",
       "      <td>-3.924685</td>\n",
       "      <td>0.480562</td>\n",
       "      <td>3.120685</td>\n",
       "    </tr>\n",
       "    <tr>\n",
       "      <th>2024-04-30</th>\n",
       "      <td>0.225</td>\n",
       "      <td>173.330</td>\n",
       "      <td>174.990</td>\n",
       "      <td>170.0000</td>\n",
       "      <td>170.33</td>\n",
       "      <td>65934776.0</td>\n",
       "      <td>-0.018271</td>\n",
       "      <td>169.6215</td>\n",
       "      <td>172.8392</td>\n",
       "      <td>170.074853</td>\n",
       "      <td>173.368114</td>\n",
       "      <td>2.908147</td>\n",
       "      <td>175.437794</td>\n",
       "      <td>163.805206</td>\n",
       "      <td>51.871389</td>\n",
       "      <td>-3.293261</td>\n",
       "      <td>-3.798400</td>\n",
       "      <td>0.505139</td>\n",
       "      <td>3.280195</td>\n",
       "    </tr>\n",
       "    <tr>\n",
       "      <th>2024-05-01</th>\n",
       "      <td>0.110</td>\n",
       "      <td>169.580</td>\n",
       "      <td>172.705</td>\n",
       "      <td>169.1100</td>\n",
       "      <td>169.30</td>\n",
       "      <td>50383147.0</td>\n",
       "      <td>-0.006047</td>\n",
       "      <td>169.6040</td>\n",
       "      <td>172.5940</td>\n",
       "      <td>170.001058</td>\n",
       "      <td>173.208580</td>\n",
       "      <td>2.909019</td>\n",
       "      <td>175.422039</td>\n",
       "      <td>163.785961</td>\n",
       "      <td>49.562828</td>\n",
       "      <td>-3.207523</td>\n",
       "      <td>-3.680225</td>\n",
       "      <td>0.472702</td>\n",
       "      <td>3.354945</td>\n",
       "    </tr>\n",
       "  </tbody>\n",
       "</table>\n",
       "</div>"
      ],
      "text/plain": [
       "            sentimentValue     open     high       low   close      volume  \\\n",
       "2024-04-25           0.217  169.525  170.610  168.1511  169.89  50558329.0   \n",
       "2024-04-26           0.032  169.880  171.340  169.1800  169.30  44838354.0   \n",
       "2024-04-29           0.281  173.370  176.030  173.1000  173.50  68169419.0   \n",
       "2024-04-30           0.225  173.330  174.990  170.0000  170.33  65934776.0   \n",
       "2024-05-01           0.110  169.580  172.705  169.1100  169.30  50383147.0   \n",
       "\n",
       "             returns  SMA_short  SMA_long   EMA_short    EMA_long   std_dev  \\\n",
       "2024-04-25  0.005147   169.4825  173.5830  169.725114  173.662891  2.799306   \n",
       "2024-04-26 -0.003473   169.3735  173.2860  169.684627  173.491797  2.759594   \n",
       "2024-04-29  0.024808   169.5470  173.0788  170.047996  173.492119  2.908127   \n",
       "2024-04-30 -0.018271   169.6215  172.8392  170.074853  173.368114  2.908147   \n",
       "2024-05-01 -0.006047   169.6040  172.5940  170.001058  173.208580  2.909019   \n",
       "\n",
       "            upper_band  lower_band        RSI      MACD  MACD_signal  \\\n",
       "2024-04-25  175.081112  163.883888  45.291850 -3.937777    -4.104239   \n",
       "2024-04-26  174.892689  163.854311  46.892816 -3.807170    -4.044825   \n",
       "2024-04-29  175.363253  163.730747  54.586307 -3.444123    -3.924685   \n",
       "2024-04-30  175.437794  163.805206  51.871389 -3.293261    -3.798400   \n",
       "2024-05-01  175.422039  163.785961  49.562828 -3.207523    -3.680225   \n",
       "\n",
       "            MACD_histogram       ATR  \n",
       "2024-04-25        0.166462  2.916435  \n",
       "2024-04-26        0.237655  2.884435  \n",
       "2024-04-29        0.480562  3.120685  \n",
       "2024-04-30        0.505139  3.280195  \n",
       "2024-05-01        0.472702  3.354945  "
      ]
     },
     "execution_count": 5,
     "metadata": {},
     "output_type": "execute_result"
    }
   ],
   "source": [
    "df_aapl = wrangle_data(sentiment_data_aapl, price_data_aapl, indicators_aapl)\n",
    "df_aapl.tail()"
   ]
  },
  {
   "cell_type": "code",
   "execution_count": 6,
   "id": "23e70491-a2ff-46be-af20-a40183e15ebf",
   "metadata": {},
   "outputs": [],
   "source": [
    "from regime_detection import *"
   ]
  },
  {
   "cell_type": "code",
   "execution_count": 7,
   "id": "2a2c8081-93c9-4467-9d63-93891f9c1c43",
   "metadata": {},
   "outputs": [],
   "source": [
    "clustering_df_aapl = data_prep(df_aapl['close'], 3)"
   ]
  },
  {
   "cell_type": "code",
   "execution_count": 8,
   "id": "ec196c90-0a06-4a04-a65b-6c0c8f49df19",
   "metadata": {},
   "outputs": [],
   "source": [
    "params = {'n_clusters': 2, 'linkage': 'average', 'metric': 'manhattan', 'random_state':42}\n",
    "clustering = get_regimes_clustering(params)\n",
    "cluster_states_aapl = clustering.fit_predict(clustering_df_aapl)"
   ]
  },
  {
   "cell_type": "code",
   "execution_count": 9,
   "id": "3f78afc0-a3c3-4e01-9dee-64cd47ed5727",
   "metadata": {},
   "outputs": [
    {
     "data": {
      "image/png": "[encoded data removed]",
      "text/plain": [
       "<Figure size 1000x500 with 1 Axes>"
      ]
     },
     "metadata": {},
     "output_type": "display_data"
    }
   ],
   "source": [
    "plot_regimes(df_aapl['close'], states=cluster_states_aapl, title='Regime')"
   ]
  },
  {
   "cell_type": "code",
   "execution_count": 10,
   "id": "4ea61aa7-9333-46a1-aa8a-47ac1a326c89",
   "metadata": {},
   "outputs": [],
   "source": [
    "from data_augmentation import *"
   ]
  },
  {
   "cell_type": "code",
   "execution_count": 11,
   "id": "5b803053-753f-4635-bfb9-46b6f5768179",
   "metadata": {},
   "outputs": [
    {
     "data": {
      "text/plain": [
       "((827, 19, 19), (827,))"
      ]
     },
     "execution_count": 11,
     "metadata": {},
     "output_type": "execute_result"
    }
   ],
   "source": [
    "X_aapl = gaf_preprocess(df_aapl)[4:]\n",
    "y_aapl = cluster_states_aapl[:-1]\n",
    "X_aapl.shape, y_aapl.shape"
   ]
  },
  {
   "cell_type": "code",
   "execution_count": 12,
   "id": "8079c67b-77a0-4d22-813b-c23329bb5ad1",
   "metadata": {},
   "outputs": [],
   "source": [
    "from sklearn.model_selection import train_test_split\n",
    "\n",
    "X_train_aapl, X_test_aapl, y_train_aapl, y_test_aapl = train_test_split(X_aapl, y_aapl, shuffle=False, test_size=0.3)"
   ]
  },
  {
   "cell_type": "code",
   "execution_count": 15,
   "id": "ef4df101-be7e-47a4-b621-1d9eda86d847",
   "metadata": {},
   "outputs": [
    {
     "name": "stdout",
     "output_type": "stream",
     "text": [
      "Train Epoch: 1 [0/578] Loss: 240.248367\n",
      "Train Epoch: 1 [100/578] Loss: 0.109044\n",
      "Train Epoch: 1 [200/578] Loss: 0.168467\n",
      "Train Epoch: 1 [300/578] Loss: 0.102154\n",
      "Train Epoch: 1 [400/578] Loss: 0.134538\n",
      "Train Epoch: 1 [500/578] Loss: 0.099166\n",
      "====> Epoch: 1 Average loss: 7.101435\n",
      "Train Epoch: 2 [0/578] Loss: 0.056972\n",
      "Train Epoch: 2 [100/578] Loss: 0.105219\n",
      "Train Epoch: 2 [200/578] Loss: 0.112599\n",
      "Train Epoch: 2 [300/578] Loss: 0.109421\n",
      "Train Epoch: 2 [400/578] Loss: 0.135233\n",
      "Train Epoch: 2 [500/578] Loss: 0.092658\n",
      "====> Epoch: 2 Average loss: 0.093717\n",
      "Train Epoch: 3 [0/578] Loss: 0.062525\n",
      "Train Epoch: 3 [100/578] Loss: 0.102717\n",
      "Train Epoch: 3 [200/578] Loss: 0.129117\n",
      "Train Epoch: 3 [300/578] Loss: 0.114547\n",
      "Train Epoch: 3 [400/578] Loss: 0.125588\n",
      "Train Epoch: 3 [500/578] Loss: 0.100573\n",
      "====> Epoch: 3 Average loss: 0.095154\n",
      "Train Epoch: 4 [0/578] Loss: 0.059656\n",
      "Train Epoch: 4 [100/578] Loss: 0.120627\n",
      "Train Epoch: 4 [200/578] Loss: 0.094841\n",
      "Train Epoch: 4 [300/578] Loss: 0.115074\n",
      "Train Epoch: 4 [400/578] Loss: 0.127379\n",
      "Train Epoch: 4 [500/578] Loss: 0.107146\n",
      "====> Epoch: 4 Average loss: 0.094723\n",
      "Train Epoch: 5 [0/578] Loss: 0.056692\n",
      "Train Epoch: 5 [100/578] Loss: 0.117847\n",
      "Train Epoch: 5 [200/578] Loss: 0.125376\n",
      "Train Epoch: 5 [300/578] Loss: 0.113900\n",
      "Train Epoch: 5 [400/578] Loss: 0.124502\n",
      "Train Epoch: 5 [500/578] Loss: 0.082221\n",
      "====> Epoch: 5 Average loss: 0.093871\n",
      "Train Epoch: 6 [0/578] Loss: 0.057986\n",
      "Train Epoch: 6 [100/578] Loss: 0.098155\n",
      "Train Epoch: 6 [200/578] Loss: 0.129715\n",
      "Train Epoch: 6 [300/578] Loss: 0.097558\n",
      "Train Epoch: 6 [400/578] Loss: 0.113714\n",
      "Train Epoch: 6 [500/578] Loss: 0.092749\n",
      "====> Epoch: 6 Average loss: 0.092738\n",
      "Train Epoch: 7 [0/578] Loss: 0.047483\n",
      "Train Epoch: 7 [100/578] Loss: 0.099257\n",
      "Train Epoch: 7 [200/578] Loss: 0.115671\n",
      "Train Epoch: 7 [300/578] Loss: 0.094102\n",
      "Train Epoch: 7 [400/578] Loss: 0.121945\n",
      "Train Epoch: 7 [500/578] Loss: 0.087552\n",
      "====> Epoch: 7 Average loss: 0.091001\n",
      "Train Epoch: 8 [0/578] Loss: 0.057455\n",
      "Train Epoch: 8 [100/578] Loss: 0.105385\n",
      "Train Epoch: 8 [200/578] Loss: 0.128523\n",
      "Train Epoch: 8 [300/578] Loss: 0.096046\n",
      "Train Epoch: 8 [400/578] Loss: 0.104723\n",
      "Train Epoch: 8 [500/578] Loss: 0.104841\n",
      "====> Epoch: 8 Average loss: 0.089518\n",
      "Train Epoch: 9 [0/578] Loss: 0.052149\n",
      "Train Epoch: 9 [100/578] Loss: 0.109444\n",
      "Train Epoch: 9 [200/578] Loss: 0.126121\n",
      "Train Epoch: 9 [300/578] Loss: 0.102857\n",
      "Train Epoch: 9 [400/578] Loss: 0.113035\n",
      "Train Epoch: 9 [500/578] Loss: 0.089935\n",
      "====> Epoch: 9 Average loss: 0.088355\n",
      "Train Epoch: 10 [0/578] Loss: 0.059216\n",
      "Train Epoch: 10 [100/578] Loss: 0.106691\n",
      "Train Epoch: 10 [200/578] Loss: 0.103404\n",
      "Train Epoch: 10 [300/578] Loss: 0.110273\n",
      "Train Epoch: 10 [400/578] Loss: 0.100522\n",
      "Train Epoch: 10 [500/578] Loss: 0.083785\n",
      "====> Epoch: 10 Average loss: 0.087532\n"
     ]
    }
   ],
   "source": [
    "train_loader = prepare_data_with_labels(X_train_aapl, y_train_aapl)\n",
    "\n",
    "latent_dim = 4\n",
    "lr = 0.001\n",
    "epochs = 10\n",
    "device = torch.device('cuda')\n",
    "\n",
    "model = create_model(latent_dim, device)\n",
    "optimizer = create_optimizer(model, lr)\n",
    "\n",
    "for epoch in range(1, epochs + 1):\n",
    "    train_model_cvae(model, train_loader, optimizer, epoch)"
   ]
  },
  {
   "cell_type": "code",
   "execution_count": 16,
   "id": "0ecbaa8c-06b1-467a-bb53-fb33cd6dd6fc",
   "metadata": {},
   "outputs": [
    {
     "name": "stdout",
     "output_type": "stream",
     "text": [
      "z shape: torch.Size([2560, 4])\n",
      "labels shape: torch.Size([2560])\n",
      "synthetic_data shape: torch.Size([2560, 1, 19, 19])\n",
      "z shape: torch.Size([2560, 4])\n",
      "labels shape: torch.Size([2560])\n",
      "synthetic_data shape: torch.Size([2560, 1, 19, 19])\n"
     ]
    }
   ],
   "source": [
    "n_samples = 2560\n",
    "\n",
    "labels_class_0 = [0] * n_samples\n",
    "synthetic_data_class_0 = synthetic_data(model, labels_class_0, n_samples)\n",
    "\n",
    "labels_class_1 = [1] * n_samples\n",
    "synthetic_data_class_1 = synthetic_data(model, labels_class_1, n_samples)\n",
    "\n",
    "synthetic_features_aapl = np.concatenate([synthetic_data_class_0, synthetic_data_class_1])\n",
    "synthetic_labels_aapl = np.array(labels_class_0 + labels_class_1)"
   ]
  },
  {
   "cell_type": "code",
   "execution_count": 20,
   "id": "30a430e2-172b-4979-ad78-fd64b535cf73",
   "metadata": {},
   "outputs": [
    {
     "data": {
      "text/plain": [
       "(5120,)"
      ]
     },
     "execution_count": 20,
     "metadata": {},
     "output_type": "execute_result"
    }
   ],
   "source": [
    "synthetic_labels_aapl.shape"
   ]
  },
  {
   "cell_type": "code",
   "execution_count": null,
   "id": "6b1a05b8-ba82-42b5-9b50-a46ba576d751",
   "metadata": {},
   "outputs": [],
   "source": []
  },
  {
   "cell_type": "code",
   "execution_count": null,
   "id": "cfb3a40f-1eb5-4509-bceb-ad419cd5849e",
   "metadata": {},
   "outputs": [],
   "source": []
  },
  {
   "cell_type": "code",
   "execution_count": null,
   "id": "6f757fd2-b03c-40ed-bf50-ca8a2d6c9be6",
   "metadata": {},
   "outputs": [],
   "source": []
  },
  {
   "cell_type": "code",
   "execution_count": null,
   "id": "012948b9-b459-4741-802e-a6a247cb5e3f",
   "metadata": {},
   "outputs": [],
   "source": [
    "from sklearn.utils import shuffle\n",
    "\n",
    "synthetic_features_aapl, synthetic_labels_aapl =  shuffle(synthetic_features_aapl, synthetic_labels_aapl)"
   ]
  },
  {
   "cell_type": "code",
   "execution_count": 32,
   "id": "6b537d72-04e9-425e-9c88-53079b07bd55",
   "metadata": {},
   "outputs": [],
   "source": [
    "from classifier import *\n",
    "import torch.nn as nn\n",
    "import torch.optim as optim"
   ]
  },
  {
   "cell_type": "code",
   "execution_count": 33,
   "id": "a17d7d6c-f55f-4375-b466-b2a69ca6f7c2",
   "metadata": {},
   "outputs": [],
   "source": [
    "model_aapl = TransformerModel()\n",
    "criterion = nn.BCEWithLogitsLoss()\n",
    "optimizer = optim.Adam(model.parameters(), lr=0.001)"
   ]
  },
  {
   "cell_type": "code",
   "execution_count": 34,
   "id": "bbcd013e-b778-406d-ac52-b43de0fb0138",
   "metadata": {},
   "outputs": [],
   "source": [
    "X_train_aapl, X_val_aapl, y_train_aapl, y_val_aapl = train_test_split(synthetic_features_aapl, synthetic_labels_aapl, random_state=42, test_size=0.3)"
   ]
  },
  {
   "cell_type": "code",
   "execution_count": 35,
   "id": "53a22ec0-70dd-4463-996d-a64d90aba143",
   "metadata": {},
   "outputs": [],
   "source": [
    "train_loader_aapl = data_prep_transformer(X_train_aapl, y_train_aapl, 32)\n",
    "val_loader_aapl = data_prep_transformer(X_val_aapl, y_val_aapl, 32)"
   ]
  },
  {
   "cell_type": "code",
   "execution_count": 36,
   "id": "4c2c0915-614a-4d9a-8ff3-ea9fc34c8dea",
   "metadata": {},
   "outputs": [
    {
     "name": "stderr",
     "output_type": "stream",
     "text": [
      "C:\\Users\\Abishek\\anaconda3\\envs\\deeplearning\\lib\\site-packages\\torch\\nn\\functional.py:5504: UserWarning: 1Torch was not compiled with flash attention. (Triggered internally at ..\\aten\\src\\ATen\\native\\transformers\\cuda\\sdp_utils.cpp:455.)\n",
      "  attn_output = scaled_dot_product_attention(q, k, v, attn_mask, dropout_p, is_causal)\n"
     ]
    },
    {
     "name": "stdout",
     "output_type": "stream",
     "text": [
      "Epoch 1/30, Train Loss: 0.7032, Train Acc: 0.4953, Val Loss: 0.6995, Val Acc: 0.5111\n",
      "Epoch 2/30, Train Loss: 0.7032, Train Acc: 0.4953, Val Loss: 0.6995, Val Acc: 0.5111\n",
      "Epoch 3/30, Train Loss: 0.7027, Train Acc: 0.4953, Val Loss: 0.6995, Val Acc: 0.5111\n",
      "Epoch 4/30, Train Loss: 0.7030, Train Acc: 0.4953, Val Loss: 0.6995, Val Acc: 0.5111\n",
      "Epoch 5/30, Train Loss: 0.7030, Train Acc: 0.4953, Val Loss: 0.6995, Val Acc: 0.5111\n",
      "Epoch 6/30, Train Loss: 0.7031, Train Acc: 0.4953, Val Loss: 0.6995, Val Acc: 0.5111\n",
      "Epoch 7/30, Train Loss: 0.7037, Train Acc: 0.4953, Val Loss: 0.6995, Val Acc: 0.5111\n",
      "Epoch 8/30, Train Loss: 0.7033, Train Acc: 0.4953, Val Loss: 0.6995, Val Acc: 0.5111\n",
      "Epoch 9/30, Train Loss: 0.7041, Train Acc: 0.4953, Val Loss: 0.6995, Val Acc: 0.5111\n",
      "Epoch 10/30, Train Loss: 0.7036, Train Acc: 0.4953, Val Loss: 0.6995, Val Acc: 0.5111\n",
      "Epoch 11/30, Train Loss: 0.7033, Train Acc: 0.4953, Val Loss: 0.6995, Val Acc: 0.5111\n",
      "Epoch 12/30, Train Loss: 0.7032, Train Acc: 0.4953, Val Loss: 0.6995, Val Acc: 0.5111\n",
      "Epoch 13/30, Train Loss: 0.7033, Train Acc: 0.4953, Val Loss: 0.6995, Val Acc: 0.5111\n",
      "Epoch 14/30, Train Loss: 0.7034, Train Acc: 0.4953, Val Loss: 0.6995, Val Acc: 0.5111\n",
      "Epoch 15/30, Train Loss: 0.7037, Train Acc: 0.4953, Val Loss: 0.6995, Val Acc: 0.5111\n",
      "Epoch 16/30, Train Loss: 0.7037, Train Acc: 0.4953, Val Loss: 0.6995, Val Acc: 0.5111\n",
      "Epoch 17/30, Train Loss: 0.7028, Train Acc: 0.4953, Val Loss: 0.6995, Val Acc: 0.5111\n",
      "Epoch 18/30, Train Loss: 0.7034, Train Acc: 0.4953, Val Loss: 0.6995, Val Acc: 0.5111\n",
      "Epoch 19/30, Train Loss: 0.7034, Train Acc: 0.4953, Val Loss: 0.6995, Val Acc: 0.5111\n",
      "Epoch 20/30, Train Loss: 0.7035, Train Acc: 0.4953, Val Loss: 0.6995, Val Acc: 0.5111\n",
      "Epoch 21/30, Train Loss: 0.7041, Train Acc: 0.4953, Val Loss: 0.6995, Val Acc: 0.5111\n",
      "Epoch 22/30, Train Loss: 0.7043, Train Acc: 0.4953, Val Loss: 0.6995, Val Acc: 0.5111\n",
      "Epoch 23/30, Train Loss: 0.7035, Train Acc: 0.4953, Val Loss: 0.6995, Val Acc: 0.5111\n",
      "Epoch 24/30, Train Loss: 0.7038, Train Acc: 0.4953, Val Loss: 0.6995, Val Acc: 0.5111\n",
      "Epoch 25/30, Train Loss: 0.7035, Train Acc: 0.4953, Val Loss: 0.6995, Val Acc: 0.5111\n",
      "Epoch 26/30, Train Loss: 0.7036, Train Acc: 0.4953, Val Loss: 0.6995, Val Acc: 0.5111\n",
      "Epoch 27/30, Train Loss: 0.7035, Train Acc: 0.4953, Val Loss: 0.6995, Val Acc: 0.5111\n",
      "Epoch 28/30, Train Loss: 0.7031, Train Acc: 0.4953, Val Loss: 0.6995, Val Acc: 0.5111\n",
      "Epoch 29/30, Train Loss: 0.7035, Train Acc: 0.4953, Val Loss: 0.6995, Val Acc: 0.5111\n",
      "Epoch 30/30, Train Loss: 0.7033, Train Acc: 0.4953, Val Loss: 0.6995, Val Acc: 0.5111\n"
     ]
    }
   ],
   "source": [
    "train_model_transformer(\n",
    "    model_aapl, \n",
    "    train_loader_aapl, \n",
    "    val_loader_aapl, \n",
    "    criterion,\n",
    "    optimizer,\n",
    "    num_epochs=30\n",
    ")"
   ]
  },
  {
   "cell_type": "code",
   "execution_count": null,
   "id": "7bceea0a-4971-4665-b942-9d4fa5bac3aa",
   "metadata": {},
   "outputs": [],
   "source": []
  }
 ],
 "metadata": {
  "kernelspec": {
   "display_name": "Python 3 (ipykernel)",
   "language": "python",
   "name": "python3"
  },
  "language_info": {
   "codemirror_mode": {
    "name": "ipython",
    "version": 3
   },
   "file_extension": ".py",
   "mimetype": "text/x-python",
   "name": "python",
   "nbconvert_exporter": "python",
   "pygments_lexer": "ipython3",
   "version": "3.10.13"
  }
 },
 "nbformat": 4,
 "nbformat_minor": 5
}
